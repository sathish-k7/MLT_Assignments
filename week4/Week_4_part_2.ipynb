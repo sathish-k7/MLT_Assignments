{
  "cells": [
    {
      "cell_type": "markdown",
      "metadata": {
        "id": "53TcQvUOjGxr"
      },
      "source": [
        "# Week-4: Part-2\n"
      ]
    },
    {
      "cell_type": "code",
      "execution_count": 1,
      "metadata": {
        "id": "FasmVZvHPgMW"
      },
      "outputs": [],
      "source": [
        "import numpy as np\n",
        "import matplotlib.pyplot as plt\n",
        "# Set size of figure\n",
        "plt.rcParams['figure.figsize'] = [8, 8]\n",
        "# Set size of font\n",
        "plt.rcParams['font.size'] = 10"
      ]
    },
    {
      "cell_type": "markdown",
      "metadata": {
        "id": "7A9Gri4ZP1oK"
      },
      "source": [
        "## GMM\n",
        "\n",
        "Now that we know how to sample from simple distributions like the Bernoulli and Gaussian, we shall move to sampling from a GMM. There are two steps here:\n",
        "\n",
        "- Pick a mixture $k$ from $K$ mixtures based on the categorical distribution governing it\n",
        "- Sample a point from the $k^{th}$ Gaussian"
      ]
    },
    {
      "cell_type": "markdown",
      "metadata": {
        "id": "1GlVAG9-8qFY"
      },
      "source": [
        "## Problem-1\n",
        "\n",
        "Consider a GMM with $K = 3$. The mixture probabilities are given below. It is easier to work with zero-indexing, hence we will index our mixtures starting from $0$:\n",
        "\n",
        "$$\n",
        "\\pi_0 = 0.3\\\\\n",
        "\\pi_1 = 0.5\\\\\n",
        "\\pi_2 = 0.2\n",
        "$$\n",
        "\n",
        "Perform step-1 of the sampling process by choosing one of the three mixtures based on the above distribution. Call this value $k$. Use the cell given below for all your computation. Do not change the seed value. Enter $k$ as your answer."
      ]
    },
    {
      "cell_type": "code",
      "execution_count": 2,
      "metadata": {
        "id": "aQqjseA3RYkB"
      },
      "outputs": [
        {
          "name": "stdout",
          "output_type": "stream",
          "text": [
            "1\n"
          ]
        }
      ],
      "source": [
        "### RNG ###\n",
        "rng = np.random.default_rng(seed=1001)\n",
        "\n",
        "### Solution ###\n",
        "mixture_probabilities = [0.3, 0.5, 0.2]\n",
        "k = rng.choice(3, p=mixture_probabilities)\n",
        "print(k)  # Output the chosen mixture"
      ]
    },
    {
      "cell_type": "markdown",
      "metadata": {
        "id": "4hd29e0n9mar"
      },
      "source": [
        "## Problem-2\n",
        "\n",
        "Now we move to step-2 of the sampling process. Sample a point from mixture $k$ (obtained from the previous question). The means and variances of the mixtures are as follows:\n",
        "\n",
        "$$\n",
        "\\mu_1 = -4, \\sigma_1^2 = 2\\\\\n",
        "\\mu_2 = 0, \\sigma_2^2 = 1\\\\\n",
        "\\mu_3 = 5, \\sigma_3^2 = 3\n",
        "$$\n",
        "\n",
        "\n",
        "Use the cell given below for all your computation. Enter the sampled point correct to three decimal places."
      ]
    },
    {
      "cell_type": "code",
      "execution_count": 3,
      "metadata": {
        "id": "D0TUgnKG91t2"
      },
      "outputs": [
        {
          "name": "stdout",
          "output_type": "stream",
          "text": [
            "0.932\n"
          ]
        }
      ],
      "source": [
        "### RNG ###\n",
        "rng = np.random.default_rng(seed=1001)\n",
        "\n",
        "### Solution ###\n",
        "means = [-4, 0, 5]\n",
        "variances = [2, 1, 3]\n",
        "sampled_point = rng.normal(loc=means[k], scale=np.sqrt(variances[k]))\n",
        "print(round(sampled_point, 3))  # Output the sampled point rounded to 3 decimal places"
      ]
    },
    {
      "cell_type": "markdown",
      "metadata": {
        "id": "7FnbGy4p-jeK"
      },
      "source": [
        "## Problem-3\n",
        "\n",
        "Now that we have sampled one point, we are ready to do more. Sample $100,000$ points from the GMM. Generate each point step by step. Store the samples in a NumPy array `X` of shape $(100,000, )$. `X[i]` should hold the value of the $i^{th}$ point generated from the GMM.  Use the cell below for all your computation. Enter the mean of `X` as your answer correct to three decimal places."
      ]
    },
    {
      "cell_type": "code",
      "execution_count": 4,
      "metadata": {
        "id": "XA8gv2jq-rTC"
      },
      "outputs": [
        {
          "name": "stdout",
          "output_type": "stream",
          "text": [
            "-0.193\n"
          ]
        }
      ],
      "source": [
        "### RNG ###\n",
        "rng = np.random.default_rng(seed=1001)\n",
        "\n",
        "### Solution ###\n",
        "n_samples = 100000\n",
        "mixture_probabilities = [0.3, 0.5, 0.2]\n",
        "means = [-4, 0, 5]\n",
        "variances = [2, 1, 3]\n",
        "\n",
        "X = np.zeros(n_samples)\n",
        "for i in range(n_samples):\n",
        "    k = rng.choice(3, p=mixture_probabilities)\n",
        "    X[i] = rng.normal(loc=means[k], scale=np.sqrt(variances[k]))\n",
        "\n",
        "mean_X = np.mean(X)\n",
        "print(round(mean_X, 3))  # Output the mean of X rounded to 3 decimal places"
      ]
    },
    {
      "cell_type": "markdown",
      "metadata": {
        "id": "2heXmKhI_uXb"
      },
      "source": [
        "## Problem-4\n",
        "\n",
        "Plot a histogram of the dataset. Play around with the `bins` parameter of the `plt.hist` method. We will be using this dataset `X` all through the next section of the colab."
      ]
    },
    {
      "cell_type": "code",
      "execution_count": 5,
      "metadata": {
        "id": "lpor62HP_xPF"
      },
      "outputs": [
        {
          "data": {
            "image/png": "[encoded data removed]",
            "text/plain": [
              "<Figure size 800x800 with 1 Axes>"
            ]
          },
          "metadata": {},
          "output_type": "display_data"
        }
      ],
      "source": [
        "### Solution ###\n",
        "plt.hist(X, bins=50, color='blue', alpha=0.7)\n",
        "plt.title(\"Histogram of GMM Samples\")\n",
        "plt.xlabel(\"Value\")\n",
        "plt.ylabel(\"Frequency\")\n",
        "plt.show()"
      ]
    },
    {
      "cell_type": "markdown",
      "metadata": {
        "id": "t1VFwTY0ArhB"
      },
      "source": [
        "## EM algorithm\n",
        "\n",
        "It is time to start coding up the EM algorithm from scratch. We will break this down into five stages:\n",
        "\n",
        "- Initialization\n",
        "- E-step\n",
        "- M-step\n",
        "- Stopping criterion\n",
        "- Algorithm\n",
        "\n",
        "For each of the first four stages, we will write functions that are related to that stage. All these functions will be eventually used in the code for the EM algorithm. This is a modular approach to writing the code. We have identified four blocks or stages. We can independently work on these four blocks and finally combine them. If something goes wrong, we can quickly localize the problem to one of these four blocks.\n"
      ]
    },
    {
      "cell_type": "markdown",
      "metadata": {
        "id": "YuhQSnp0BChl"
      },
      "source": [
        "## Problem-5\n",
        "\n",
        "Write a function `init` that initializes the parameters of the GMM and returns `theta_0`, a NumPy array of shape $(3K, )$. The first $K$ elements of `theta_0` ($\\boldsymbol{\\theta}^{(0)}$) represents the means of the three mixtures, the next $K$ represent the variances and the last $K$ represent the mixture probabilities.\n",
        "\n",
        "The exact values to be used are as follows:\n",
        "\n",
        "- $\\mu_0 = 1, \\mu_1 = 2, \\mu_2 = 3$\n",
        "- $\\sigma_0^2 = \\sigma_1^2 = \\sigma_2^2 = 1$\n",
        "- $\\pi_0 = \\pi_1 = \\pi_2 = 1/3$\n",
        "\n",
        "Enter $||\\boldsymbol{\\theta}^{(0)}||$ as your answer correct to two decimal places. Keep this variable `theta_0` as it will be used in subsequent problems."
      ]
    },
    {
      "cell_type": "code",
      "execution_count": 6,
      "metadata": {
        "id": "HKe2dspvIUgE"
      },
      "outputs": [
        {
          "name": "stdout",
          "output_type": "stream",
          "text": [
            "4.16\n"
          ]
        }
      ],
      "source": [
        "### Solution ###\n",
        "def init():\n",
        "    theta_0 = np.array([1, 2, 3, 1, 1, 1, 1/3, 1/3, 1/3])\n",
        "    return theta_0\n",
        "\n",
        "theta_0 = init()\n",
        "norm_theta_0 = np.linalg.norm(theta_0)\n",
        "print(round(norm_theta_0, 2))  # Output ||theta_0|| rounded to 2 decimal places"
      ]
    },
    {
      "cell_type": "markdown",
      "metadata": {
        "id": "EgsmXOKYJ76X"
      },
      "source": [
        "## Problem-6\n",
        "\n",
        "Write a function `estep` that accepts `theta` and `X` as arguments. It should perform the E-step and return an array `lamb` of shape `(n, K)`. The element `lamb[i][k]` is equal to $\\lambda_k^{i}$. For the purposes of evaluation, run the function on `theta_0` and `X`. Call the returned value `lamb_1`.  Compute the sum of the zeroth column of the matrix `lamb_1` and enter that as your answer correct to two decimal places. Keep this variable `lamb_1` as it will be used in subsequent problems.\n",
        "\n",
        "\n",
        "**Aside**: We prefer the variable name `lamb` over `lambda` for a reason. Can you guess why?"
      ]
    },
    {
      "cell_type": "code",
      "execution_count": 7,
      "metadata": {
        "id": "kKH7zNZ6IJsb"
      },
      "outputs": [
        {
          "name": "stdout",
          "output_type": "stream",
          "text": [
            "68226.2\n"
          ]
        }
      ],
      "source": [
        "### Solution ###\n",
        "def estep(theta, X):\n",
        "    n = len(X)\n",
        "    K = 3\n",
        "    lamb = np.zeros((n, K))\n",
        "    for i in range(n):\n",
        "        for k in range(K):\n",
        "            mean = theta[k]\n",
        "            variance = theta[K + k]\n",
        "            pi_k = theta[2 * K + k]\n",
        "            lamb[i, k] = pi_k * (1 / np.sqrt(2 * np.pi * variance)) * np.exp(-((X[i] - mean) ** 2) / (2 * variance))\n",
        "        lamb[i, :] /= np.sum(lamb[i, :])\n",
        "    return lamb\n",
        "\n",
        "lamb_1 = estep(theta_0, X)\n",
        "sum_lamb_1_col0 = np.sum(lamb_1[:, 0])\n",
        "print(round(sum_lamb_1_col0, 2))  # Output sum of zeroth column rounded to 2 decimal places"
      ]
    },
    {
      "cell_type": "markdown",
      "metadata": {
        "id": "Fqnf831nLAlP"
      },
      "source": [
        "## Problem-7\n",
        "\n",
        "Write a function `mstep` that accepts `lamb` and `X` as arguments. It should perform the M-step and return a NumPy array `theta`, the updated parameters, namely. We follow the same convention for storing the parameters as was done during the init step. For the purposes of evaluation, compute the value of the function for `lamb_1` and `X`. Call the returned value `theta_1` ($\\boldsymbol{\\theta}^{(1)}$). Enter $||\\boldsymbol{\\theta}^{(1)}||$  as your answer correct to two decimal places."
      ]
    },
    {
      "cell_type": "code",
      "execution_count": 8,
      "metadata": {
        "id": "k9FSc2QiITDs"
      },
      "outputs": [
        {
          "name": "stdout",
          "output_type": "stream",
          "text": [
            "8.69\n"
          ]
        }
      ],
      "source": [
        "### Solution ###\n",
        "def mstep(lamb, X):\n",
        "    n, K = lamb.shape\n",
        "    theta = np.zeros(3 * K)\n",
        "    for k in range(K):\n",
        "        N_k = np.sum(lamb[:, k])\n",
        "        theta[k] = np.sum(lamb[:, k] * X) / N_k\n",
        "        theta[K + k] = np.sum(lamb[:, k] * (X - theta[k]) ** 2) / N_k\n",
        "        theta[2 * K + k] = N_k / n\n",
        "    return theta\n",
        "\n",
        "theta_1 = mstep(lamb_1, X)\n",
        "norm_theta_1 = np.linalg.norm(theta_1)\n",
        "print(round(norm_theta_1, 2))  # Output ||theta_1|| rounded to 2 decimal places"
      ]
    },
    {
      "cell_type": "markdown",
      "metadata": {
        "id": "0SLzBm4fLRSK"
      },
      "source": [
        "## Problem-8\n",
        "\n",
        "Given two vectors $\\boldsymbol{\\theta}^{(t)}$ and $\\boldsymbol{\\theta}^{(t + 1)}$, write a function `distance` that accepts these two vectors as arguments and returns the distance between them:\n",
        "\n",
        "$$\n",
        "||\\boldsymbol{\\theta}^{(t + 1)} - \\boldsymbol{\\theta}^{(t)}||\n",
        "$$\n",
        "\n",
        "For the purposes of evaluation, compute the distance between $\\boldsymbol{\\theta}^{(0)}$ and $\\boldsymbol{\\theta}^{(1)}$ and report your answer correct to two decimal places."
      ]
    },
    {
      "cell_type": "code",
      "execution_count": 9,
      "metadata": {
        "id": "f-dyb9_4IVwI"
      },
      "outputs": [
        {
          "name": "stdout",
          "output_type": "stream",
          "text": [
            "6.27\n"
          ]
        }
      ],
      "source": [
        "### Solution ###\n",
        "def distance(theta_t, theta_t1):\n",
        "    return np.linalg.norm(theta_t1 - theta_t)\n",
        "\n",
        "dist = distance(theta_0, theta_1)\n",
        "print(round(dist, 2))  # Output distance rounded to 2 decimal places"
      ]
    },
    {
      "cell_type": "markdown",
      "metadata": {
        "id": "FFQwFcH6MELs"
      },
      "source": [
        "## Problem-9\n",
        "\n",
        "Perform the EM algorithm until convergence. The stopping-criterion is that the distance between the two parameter-vectors should be less than $0.01$.\n",
        "\n",
        "$$\n",
        "||\\boldsymbol{\\theta}^{(t + 1)} - \\boldsymbol{\\theta}^{(t)}|| < 0.01\n",
        "$$\n",
        "\n",
        "\n",
        "Initialize the parameters to $\\boldsymbol{\\theta}^{(0)}$. Find the number of iterations it takes for the algorithm to converge. Enter this as your answer.\n",
        "\n",
        "This is going to take some time. Hold tight!"
      ]
    },
    {
      "cell_type": "code",
      "execution_count": 10,
      "metadata": {
        "id": "lqRgxVx2IXMp"
      },
      "outputs": [
        {
          "name": "stdout",
          "output_type": "stream",
          "text": [
            "71\n"
          ]
        }
      ],
      "source": [
        "### Solution ###\n",
        "def em_algorithm(X, theta_0, tol=0.01):\n",
        "    theta_t = theta_0\n",
        "    iterations = 0\n",
        "    while True:\n",
        "        lamb = estep(theta_t, X)\n",
        "        theta_t1 = mstep(lamb, X)\n",
        "        if distance(theta_t, theta_t1) < tol:\n",
        "            break\n",
        "        theta_t = theta_t1\n",
        "        iterations += 1\n",
        "    return iterations, theta_t\n",
        "\n",
        "iterations, theta_star = em_algorithm(X, theta_0)\n",
        "print(iterations)  # Output number of iterations"
      ]
    },
    {
      "cell_type": "markdown",
      "metadata": {
        "id": "zB33Rp_4awWp"
      },
      "source": [
        "## Problem-10\n",
        "\n",
        "Let us now verify the correctness of our algorithm. We know the true parameters here:\n",
        "\n",
        "$$\n",
        "\\boldsymbol{\\theta} = \\begin{bmatrix}\n",
        "-4\\\\\n",
        "0\\\\\n",
        "5\\\\\n",
        "2\\\\\n",
        "1\\\\\n",
        "3\\\\\n",
        "0.3\\\\\n",
        "0.5\\\\\n",
        "0.2\n",
        "\\end{bmatrix}\n",
        "$$\n",
        "\n",
        "Let $\\boldsymbol{\\theta}^{*}$ be the parameter at convergence. Compute the distance between this vector and the true parameter vector. Enter your answer correct to two decimal places. The smaller the distance, better our estimate."
      ]
    },
    {
      "cell_type": "code",
      "execution_count": 11,
      "metadata": {
        "id": "WdfWCxQVbvBy"
      },
      "outputs": [
        {
          "name": "stdout",
          "output_type": "stream",
          "text": [
            "0.11\n"
          ]
        }
      ],
      "source": [
        "### Solution ###\n",
        "true_theta = np.array([-4, 0, 5, 2, 1, 3, 0.3, 0.5, 0.2])\n",
        "dist_true_estimated = distance(true_theta, theta_star)\n",
        "print(round(dist_true_estimated, 2))  # Output distance rounded to 2 decimal places"
      ]
    },
    {
      "cell_type": "markdown",
      "metadata": {
        "id": "oD5eJxOBMfN-"
      },
      "source": [
        "## Problem-11\n",
        "\n",
        "We shall do a hard clustering of the data-points. Use the final `lamb` value obtained and cluster the points using:\n",
        "\n",
        "$$\n",
        "z_i = \\operatorname*{argmax} \\limits_{k} \\lambda_k^{i}\n",
        "$$\n",
        "\n",
        "Let $0$, $1$ and $2$ correspond to the colors red, blue and green respectively. Plot three colored histograms on the same figure, one for each cluster."
      ]
    },
    {
      "cell_type": "code",
      "execution_count": 12,
      "metadata": {
        "id": "NwRMqRTQgWbg"
      },
      "outputs": [
        {
          "ename": "NameError",
          "evalue": "name 'lamb' is not defined",
          "output_type": "error",
          "traceback": [
            "\u001b[31m---------------------------------------------------------------------------\u001b[39m",
            "\u001b[31mNameError\u001b[39m                                 Traceback (most recent call last)",
            "\u001b[36mCell\u001b[39m\u001b[36m \u001b[39m\u001b[32mIn[12]\u001b[39m\u001b[32m, line 2\u001b[39m\n\u001b[32m      1\u001b[39m \u001b[38;5;66;03m### Solution ###\u001b[39;00m\n\u001b[32m----> \u001b[39m\u001b[32m2\u001b[39m z = np.argmax(\u001b[43mlamb\u001b[49m, axis=\u001b[32m1\u001b[39m)\n\u001b[32m      3\u001b[39m colors = [\u001b[33m'\u001b[39m\u001b[33mred\u001b[39m\u001b[33m'\u001b[39m, \u001b[33m'\u001b[39m\u001b[33mblue\u001b[39m\u001b[33m'\u001b[39m, \u001b[33m'\u001b[39m\u001b[33mgreen\u001b[39m\u001b[33m'\u001b[39m]\n\u001b[32m      5\u001b[39m \u001b[38;5;28;01mfor\u001b[39;00m k \u001b[38;5;129;01min\u001b[39;00m \u001b[38;5;28mrange\u001b[39m(\u001b[32m3\u001b[39m):\n",
            "\u001b[31mNameError\u001b[39m: name 'lamb' is not defined"
          ]
        }
      ],
      "source": [
        "### Solution ###\n",
        "z = np.argmax(lamb, axis=1)\n",
        "colors = ['red', 'blue', 'green']\n",
        "\n",
        "for k in range(3):\n",
        "    plt.hist(X[z == k], bins=50, color=colors[k], alpha=0.7, label=f'Cluster {k}')\n",
        "\n",
        "plt.title(\"Clustered Histograms\")\n",
        "plt.xlabel(\"Value\")\n",
        "plt.ylabel(\"Frequency\")\n",
        "plt.legend()\n",
        "plt.show()"
      ]
    },
    {
      "cell_type": "markdown",
      "metadata": {
        "id": "mLYpnfPd-aHq"
      },
      "source": [
        "## Extras\n",
        "\n",
        "Here are some of the things that can be tried out:\n",
        "\n",
        "- Make the stopping criterion more stringent and see the effect it has on the number of iterations\n",
        "- Change the size of the dataset and study the effect it has on convergence.\n",
        "- Change the initialization and study the effect it has on convergence\n",
        "- Change the number of mixtures and see what happens"
      ]
    }
  ],
  "metadata": {
    "colab": {
      "provenance": []
    },
    "kernelspec": {
      "display_name": ".venv",
      "language": "python",
      "name": "python3"
    },
    "language_info": {
      "codemirror_mode": {
        "name": "ipython",
        "version": 3
      },
      "file_extension": ".py",
      "mimetype": "text/x-python",
      "name": "python",
      "nbconvert_exporter": "python",
      "pygments_lexer": "ipython3",
      "version": "3.13.3"
    }
  },
  "nbformat": 4,
  "nbformat_minor": 0
}
