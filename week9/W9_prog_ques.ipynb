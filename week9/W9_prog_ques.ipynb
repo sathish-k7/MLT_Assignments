{
  "nbformat": 4,
  "nbformat_minor": 0,
  "metadata": {
    "colab": {
      "provenance": []
    },
    "kernelspec": {
      "name": "python3",
      "display_name": "Python 3"
    },
    "language_info": {
      "name": "python"
    }
  },
  "cells": [
    {
      "cell_type": "code",
      "execution_count": null,
      "metadata": {
        "id": "3TDibK0Yrxm_"
      },
      "outputs": [],
      "source": [
        "import numpy as np\n",
        "import matplotlib.pyplot as plt"
      ]
    },
    {
      "cell_type": "markdown",
      "source": [
        "# Week-9\n",
        "\n",
        "**Note to Learners**:\n",
        "\n",
        "- For questions that involve plotting, just enter $0$ as the answer in the portal.\n"
      ],
      "metadata": {
        "id": "1TBHlt7hAdN1"
      }
    },
    {
      "cell_type": "markdown",
      "source": [
        "## Dataset\n",
        "\n",
        "Run the cell given below to generate the data-matrix $\\mathbf{X}$, which is of shape $(n, d)$, where $n$ denotes the number of samples and $d$ denotes the number of features.\n",
        "\n",
        "**Do not edit this cell.**"
      ],
      "metadata": {
        "id": "XJKrscLo9qwH"
      }
    },
    {
      "cell_type": "code",
      "source": [
        "from sklearn.datasets import make_classification\n",
        "X, y = make_classification(n_samples=50, n_features=2, n_informative = 2, n_redundant = 0, n_clusters_per_class = 1, flip_y = 0, class_sep = 3, random_state=20)"
      ],
      "metadata": {
        "id": "d_H2VRQNsLly"
      },
      "execution_count": null,
      "outputs": []
    },
    {
      "cell_type": "markdown",
      "source": [
        "## Problem 1\n",
        "How many samples are there in the dataset?\n",
        "\n"
      ],
      "metadata": {
        "id": "VAONMkaU91v7"
      }
    },
    {
      "cell_type": "markdown",
      "source": [
        "## Problem 2\n",
        "\n",
        "How many features are there in the dataset?\n"
      ],
      "metadata": {
        "id": "ozjMS6e_91y3"
      }
    },
    {
      "cell_type": "markdown",
      "source": [
        "## Problem 3\n",
        "In the target vector $y$, replace all occurrences of 0 with -1.\n",
        "\n",
        "How many unique classes are there in the target vector?\n",
        "\n"
      ],
      "metadata": {
        "id": "BOuGvyBUrGUH"
      }
    },
    {
      "cell_type": "markdown",
      "source": [
        "## Problem 4\n",
        "Plot the data keepig first feature on the x-axis and the second feature on the y-axis. Plot the data points belonging to each class in different colors. Does the data seem linearly separable?\n",
        "\n",
        "[MCQ]\n",
        "\n",
        "**Options:**\n",
        "\n",
        "(a) Yes\n",
        "\n",
        "(b) No\n",
        "\n"
      ],
      "metadata": {
        "id": "2mjZDVoIqzkJ"
      }
    },
    {
      "cell_type": "markdown",
      "source": [
        "## Problem 5\n",
        "\n",
        "Initialize w to be a zero vector, with shape equal to the number of features in the data.\n",
        "\n",
        "Iterate over each data point $x$ in $X$ one by one (in the same sequence as present in $X$). For each data point, compute the value of $w^Tx$. If $w^Tx \\ge 0$, predict positive class for $x$, else predict the negative class.\n",
        "\n",
        "If prediction does not match the actual class label, update the weight vector as per the following update rule:\n",
        "$$w_{new} = w_{old} + xy$$ where $x$ is the data point and $y$ is the actual label of $x$.\n",
        "\n",
        "Run the above for 10 epochs (iterations), but stop if there are no weight updates in an epoch.\n",
        "\n",
        "In which iteration, does the number of weight updates becomes zero for the first time?\n",
        "\n",
        "[NAT]\n",
        "**Options**\n",
        "\n",
        "(a) 1\n",
        "\n",
        "(b) 2\n",
        "\n",
        "(c) 3\n",
        "\n",
        "(d) 5\n",
        "\n"
      ],
      "metadata": {
        "id": "wBvVzKA-u9YM"
      }
    },
    {
      "cell_type": "markdown",
      "source": [
        "## Problem 6\n",
        "Plot the vector w and the decision boundary thus obtained.\n",
        "\n"
      ],
      "metadata": {
        "id": "3zs84_zyUMZG"
      }
    },
    {
      "cell_type": "markdown",
      "source": [
        "## Problem 7\n",
        "What is the value of loss using the weight vector obtained earlier?  \n"
      ],
      "metadata": {
        "id": "8jRORev-U_AQ"
      }
    },
    {
      "cell_type": "markdown",
      "source": [
        "## Problem 8\n",
        "Now use the following data set, replace occurrences of 0 with -1 and visualize.\n",
        "\n",
        "**Do not edit the following cell.**\n",
        "\n"
      ],
      "metadata": {
        "id": "6Mv5kTYtVZ39"
      }
    },
    {
      "cell_type": "code",
      "source": [
        "from sklearn.datasets import make_classification\n",
        "X, y = make_classification(n_samples=50, n_features=2, n_informative = 2, n_redundant = 0, n_clusters_per_class = 1, flip_y = 0.1, class_sep = 2, random_state=20)"
      ],
      "metadata": {
        "id": "27pznw-oVeFq"
      },
      "execution_count": null,
      "outputs": []
    },
    {
      "cell_type": "markdown",
      "source": [
        "## Problem 9\n",
        "\n",
        "Apply the Perceptron code again.\n",
        "\n",
        "What is the number of weight updates performed in epoch 10?\n",
        "\n"
      ],
      "metadata": {
        "id": "jLlsj651cjtm"
      }
    },
    {
      "cell_type": "markdown",
      "source": [
        "## Problem 10\n",
        "Visualize the weight vector and the decision boundary.\n",
        "\n"
      ],
      "metadata": {
        "id": "iVxGOLbocqVv"
      }
    }
  ]
}