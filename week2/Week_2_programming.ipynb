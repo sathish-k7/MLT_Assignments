{
  "nbformat": 4,
  "nbformat_minor": 0,
  "metadata": {
    "colab": {
      "provenance": []
    },
    "kernelspec": {
      "name": "python3",
      "display_name": "Python 3"
    },
    "language_info": {
      "name": "python"
    }
  },
  "cells": [
    {
      "cell_type": "code",
      "execution_count": null,
      "metadata": {
        "id": "q_ck4etoQn3-"
      },
      "outputs": [],
      "source": [
        "import numpy as np\n",
        "import matplotlib.pyplot as plt"
      ]
    },
    {
      "cell_type": "markdown",
      "source": [
        "# Week-2\n",
        "\n",
        "**Note to Learners**:\n",
        "\n",
        "- For questions that involve plotting, just enter $0$ as the answer in the portal.\n",
        "- For numerical questions, there are two parts. The first part expects you to compute some quantity, say a parameter of a machine learning model. The second part will require you to convert this quantity (if it is not a scalar) into a scalar so that it can be entered as the answer on the portal to the corresponding NAT question.\n",
        "\n"
      ],
      "metadata": {
        "id": "1TBHlt7hAdN1"
      }
    },
    {
      "cell_type": "markdown",
      "source": [
        "## Dataset\n",
        "\n",
        "Run the cell given below to generate the data-matrix $\\mathbf{X}$, which is of shape $(n, d)$, where $n$ denotes the number of samples and $d$ denotes the number of features. Ignore the vector $y$. You will be using this dataset for the rest of the assignment. Do not edit this cell."
      ],
      "metadata": {
        "id": "lqXdDNyBh5Ui"
      }
    },
    {
      "cell_type": "code",
      "source": [
        "from sklearn.datasets import make_circles\n",
        "\n",
        "X, y = make_circles(n_samples=1000, factor=0.9, noise=0.2, random_state=0)"
      ],
      "metadata": {
        "id": "CAbrCY_dRRxP"
      },
      "execution_count": null,
      "outputs": []
    },
    {
      "cell_type": "markdown",
      "source": [
        "## Problem 1\n",
        "Plot the dataset using matplotlib."
      ],
      "metadata": {
        "id": "mvplHWyjiUbW"
      }
    },
    {
      "cell_type": "code",
      "source": [
        "# Enter your solution here"
      ],
      "metadata": {
        "id": "WsId_TzBRmCR"
      },
      "execution_count": null,
      "outputs": []
    },
    {
      "cell_type": "markdown",
      "source": [
        "## Problem 2\n",
        "How many samples are there in the dataset?\n"
      ],
      "metadata": {
        "id": "HmOUoVes-wp8"
      }
    },
    {
      "cell_type": "code",
      "source": [
        "# Enter your solution here"
      ],
      "metadata": {
        "id": "UcR4nDys-5Tt"
      },
      "execution_count": null,
      "outputs": []
    },
    {
      "cell_type": "markdown",
      "source": [
        "## Problem 3\n",
        "How many features are there in the dataset?"
      ],
      "metadata": {
        "id": "aZfEFUur_dqG"
      }
    },
    {
      "cell_type": "code",
      "source": [
        "# Enter your solution here"
      ],
      "metadata": {
        "id": "UggWLA-p_lg7"
      },
      "execution_count": null,
      "outputs": []
    },
    {
      "cell_type": "markdown",
      "source": [
        "## Problem 4\n",
        "Find the kernel matrix $K$ using the polynomial kernel with degree $2$.\n",
        "\n",
        "<u>Conversion</u>\n",
        "\n",
        "Enter the following quantity as your answer correct to two decimal places:\n",
        "\n",
        "$$\n",
        "\\cfrac{1}{n} \\sqrt{\\sum \\limits_{i = 1}^{n} \\sum \\limits_{j = 1}^{n} (K_{ij})^2}\n",
        "$$"
      ],
      "metadata": {
        "id": "gasf65KuidsK"
      }
    },
    {
      "cell_type": "code",
      "source": [
        "# Enter your solution here"
      ],
      "metadata": {
        "id": "FgXEvNlWS8yM"
      },
      "execution_count": null,
      "outputs": []
    },
    {
      "cell_type": "markdown",
      "source": [
        "## Problem 5\n",
        "Find the kernel matrix $K$ using the Gaussian kernel with parameter $\\sigma = 2$.\n",
        "\n",
        "<u>Conversion</u>\n",
        "\n",
        "Enter the following quantity as your answer correct to two decimal places:\n",
        "\n",
        "$$\n",
        "\\cfrac{1}{n} \\sqrt{\\sum \\limits_{i = 1}^{n} \\sum \\limits_{j = 1}^{n} (K_{ij})^2}\n",
        "$$"
      ],
      "metadata": {
        "id": "klNZ9eQTlIFO"
      }
    },
    {
      "cell_type": "code",
      "source": [
        "# Enter your solution here"
      ],
      "metadata": {
        "id": "Z-sZEL_wjobv"
      },
      "execution_count": null,
      "outputs": []
    },
    {
      "cell_type": "markdown",
      "source": [
        "## Problem 6\n",
        "Find the center of the kernel matrix $K$ obtained in problem 2. Call this centered matrix $KC$.\n",
        "\n",
        "<u>Conversion</u>\n",
        "\n",
        "Enter the following quantity as your answer correct to two decimal places:\n",
        "\n",
        "$$\n",
        "\\cfrac{1}{n} \\sqrt{\\sum \\limits_{i = 1}^{n} \\sum \\limits_{j = 1}^{n} KC_{ij}^2}\n",
        "$$"
      ],
      "metadata": {
        "id": "OGvN9q6uphxv"
      }
    },
    {
      "cell_type": "code",
      "source": [
        "# Enter your solution here"
      ],
      "metadata": {
        "id": "ol4jeOpZTVc9"
      },
      "execution_count": null,
      "outputs": []
    },
    {
      "cell_type": "markdown",
      "source": [
        "## Problem 7\n",
        "Find the projections (scalar) of all the data points on to the first two principal components obtained using polynomial kernel of degree 2.\n",
        "\n",
        "<u>Conversion</u>\n",
        "\n",
        "if $\\alpha_1, \\alpha_2, ..., \\alpha_n$ are the prjections on the first PC and $\\beta_1, \\beta_2, ..., \\beta_n$ are the projections on the second PC, enter the following quantity as your answer correct to two decimal places:\n",
        "\n",
        "$$\\sum_{i = 1}^{n} \\alpha_i + \\sum_{i = 1}^{n} \\beta_i$$"
      ],
      "metadata": {
        "id": "ewkUhHHTsEQo"
      }
    },
    {
      "cell_type": "code",
      "source": [
        "# Enter your solution here\n"
      ],
      "metadata": {
        "id": "UvjNO9wWZ4WG"
      },
      "execution_count": null,
      "outputs": []
    },
    {
      "cell_type": "markdown",
      "source": [],
      "metadata": {
        "id": "gut_XVHGy3Ih"
      }
    },
    {
      "cell_type": "code",
      "source": [],
      "metadata": {
        "id": "WIwovGgAcgWY"
      },
      "execution_count": null,
      "outputs": []
    }
  ]
}